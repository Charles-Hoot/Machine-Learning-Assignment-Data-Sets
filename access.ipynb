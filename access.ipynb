{
 "cells": [
  {
   "cell_type": "markdown",
   "metadata": {},
   "source": [
    "# Read a file from specific github repo"
   ]
  },
  {
   "cell_type": "code",
   "execution_count": 12,
   "metadata": {},
   "outputs": [
    {
     "name": "stdout",
     "output_type": "stream",
     "text": [
      "have_it\n"
     ]
    }
   ],
   "source": [
    "import os.path \n",
    "from os import path\n",
    "import requests\n",
    "import io\n",
    "import pandas as pd\n",
    "\n",
    "# Note the use of raw\n",
    "base_url = \"https://raw.githubusercontent.com/Charles-Hoot/Machine-Learning-Assignment-Data-Sets/main/\"\n",
    "\n",
    "def get_assignment_data(name):\n",
    "    # check to see if it is in the current directory\n",
    "    have_it = path.isfile(name)\n",
    "    print(\"have_it\")\n",
    "    if not have_it:\n",
    "        #get it from the git repo\n",
    "        #Downloading the file from the GitHub account\n",
    "        url = base_url + name\n",
    "        download = requests.get(url).content\n",
    "        data=io.StringIO(download.decode('utf-8'))\n",
    "        print(\"Downloaded contents is\")\n",
    "        print(data)\n",
    "        with open(name, 'w') as file:\n",
    "            file.write(data)\n",
    "        #Automatically closed\n",
    "## Sample use  \n",
    "## get_assignment_data(\"fifa_data.csv\")"
   ]
  }
 ],
 "metadata": {
  "kernelspec": {
   "display_name": "Python 3",
   "language": "python",
   "name": "python3"
  },
  "language_info": {
   "codemirror_mode": {
    "name": "ipython",
    "version": 3
   },
   "file_extension": ".py",
   "mimetype": "text/x-python",
   "name": "python",
   "nbconvert_exporter": "python",
   "pygments_lexer": "ipython3",
   "version": "3.9.0"
  }
 },
 "nbformat": 4,
 "nbformat_minor": 4
}
